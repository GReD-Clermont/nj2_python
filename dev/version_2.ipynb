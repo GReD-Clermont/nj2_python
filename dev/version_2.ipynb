{
 "cells": [
  {
   "cell_type": "markdown",
   "id": "latter-above",
   "metadata": {},
   "source": [
    "# First version of nucleusj in python\n",
    "\n",
    "TODO:\n",
    "- open data and metadata (with bioformat? OMERO?)\n",
    "- visualise it\n",
    "- auto-crop: \n",
    "    - Ostu threshold \n",
    "    - Connected component (MorpholibJ)\n",
    "    - Component of volume > 1um are conserved\n",
    "    - A bounding box around each connected component --> plus a 20 voxel surrounding\n",
    "    - Group bounding boxes if they have a IoU > 0.5\n",
    "    - Generate a Z-projection with the bouding boxes\n",
    "    - A tabulated file with the list of each nucleus + bboxes coord in a .txt file\n",
    "- segmentation:\n",
    "    - do a thresholding Otsu then the modified Ostu?\n",
    "    - gift-wrapping \n",
    "- surface area computation:\n",
    "    - discrete geometry technique\n",
    "    - NAMM: can we use ML to find the right transformation from the sphere images?"
   ]
  },
  {
   "cell_type": "code",
   "execution_count": 2,
   "id": "nonprofit-burning",
   "metadata": {},
   "outputs": [],
   "source": [
    "import numpy as np\n",
    "import matplotlib.pyplot as plt\n",
    "import skimage as sk\n",
    "from skimage import io\n",
    "import tifffile as tif\n",
    "# import SimpleITK as sitk\n",
    "import pandas\n",
    "import os\n",
    "import tqdm\n",
    "from PIL import Image, TiffTags, ImageSequence\n",
    "\n",
    "from skimage.filters import threshold_otsu\n",
    "from skimage.measure import label, regionprops\n",
    "\n",
    "import xml.etree.ElementTree as ET"
   ]
  },
  {
   "cell_type": "code",
   "execution_count": 3,
   "id": "empty-maldives",
   "metadata": {},
   "outputs": [],
   "source": [
    "# paths\n",
    "img_path = '../data/wide_field.tif'\n",
    "out_path = '../data/output/'"
   ]
  },
  {
   "cell_type": "code",
   "execution_count": 4,
   "id": "classified-excellence",
   "metadata": {},
   "outputs": [],
   "source": [
    "# open a single image\n",
    "img = io.imread(img_path)"
   ]
  },
  {
   "cell_type": "code",
   "execution_count": 5,
   "id": "fleet-tragedy",
   "metadata": {},
   "outputs": [
    {
     "data": {
      "text/plain": [
       "<matplotlib.image.AxesImage at 0x7f90599362e0>"
      ]
     },
     "execution_count": 5,
     "metadata": {},
     "output_type": "execute_result"
    },
    {
     "data": {
      "image/png": "[encoded data removed]",
      "text/plain": [
       "<Figure size 432x288 with 1 Axes>"
      ]
     },
     "metadata": {
      "needs_background": "light"
     },
     "output_type": "display_data"
    }
   ],
   "source": [
    "half = len(img)//2\n",
    "plt.imshow(img[half])"
   ]
  },
  {
   "cell_type": "markdown",
   "id": "simplified-romantic",
   "metadata": {},
   "source": [
    "## auto-crop\n",
    "- Ostu threshold \n",
    "- Connected component (MorpholibJ)\n",
    "- Component of volume > 1um are conserved\n",
    "- A bounding box around each connected component --> plus a 20 voxel surrounding\n",
    "- Group bounding boxes if they have a IoU > 0.5\n",
    "- Generate a Z-projection with the bouding boxes and the nucleus numbers\n",
    "- A tabulated file with the list of each nucleus + bboxes coord in a .txt file"
   ]
  },
  {
   "cell_type": "code",
   "execution_count": 6,
   "id": "serial-watershed",
   "metadata": {},
   "outputs": [],
   "source": [
    "# ostu threshold\n",
    "thresh = threshold_otsu(img)\n",
    "binary = img > thresh\n",
    "\n",
    "# print(\"ostu threshold: {}\".format(thresh))\n",
    "# plt.imshow(binary[half])"
   ]
  },
  {
   "cell_type": "code",
   "execution_count": 7,
   "id": "nearby-florist",
   "metadata": {},
   "outputs": [
    {
     "name": "stdout",
     "output_type": "stream",
     "text": [
      "number of connected components: 105\n"
     ]
    }
   ],
   "source": [
    "# connected components\n",
    "connec = label(binary)\n",
    "nb_connec = len(np.unique(connec))\n",
    "print(\"number of connected components: {}\".format(nb_connec))\n",
    "\n",
    "# plt.imshow(connec[half])"
   ]
  },
  {
   "cell_type": "code",
   "execution_count": 8,
   "id": "moral-consistency",
   "metadata": {},
   "outputs": [
    {
     "name": "stdout",
     "output_type": "stream",
     "text": [
      "[8565, 6242, 8778, 8390, 8166, 21, 5692, 6492, 6646, 7256, 6631, 6167, 24884, 1, 8362, 5479, 7736, 1, 6664, 1, 13, 1, 6049, 5797, 8291, 14, 20, 6727, 6959, 1, 1, 1, 1, 4740, 4291, 1, 6906, 1, 6203, 4243, 1, 2999, 1, 36, 3482, 1, 4, 1, 113, 4366, 2, 1, 3738, 3360, 18351, 6, 1, 1, 1, 2, 2, 1, 1, 1, 4156, 1, 3566, 4408, 1, 1, 2, 1, 1, 1, 2976, 12683, 5696, 1, 1, 57, 1, 1, 1, 2, 4261, 3, 1, 4, 1, 1, 1, 1, 1, 1, 1, 1, 1, 1, 1, 1, 1, 1, 2, 1]\n"
     ]
    }
   ],
   "source": [
    "# volume of a connected component\n",
    "def connec_volume(connec, idx):\n",
    "    \"\"\"\n",
    "    returns the volume in pixel of the connected component of index 'idx' form the image called 'connec'\n",
    "    \"\"\"\n",
    "    return np.sum(connec == idx)\n",
    "\n",
    "# print the volume of all the connected components in pixel\n",
    "def connec_volume_all(connec):\n",
    "    nb_connec = len(np.unique(connec))\n",
    "    l_connec = []\n",
    "    for idx, elm in enumerate(np.unique(connec)[1:]): # remove the bg\n",
    "        l_connec += [connec_volume(connec, elm)]\n",
    "    return l_connec\n",
    "l_connec = connec_volume_all(connec)\n",
    "print(l_connec) # list of all connected component volumes (except of the bg)"
   ]
  },
  {
   "cell_type": "code",
   "execution_count": 9,
   "id": "suspected-efficiency",
   "metadata": {},
   "outputs": [],
   "source": [
    "# remove connected component that are too small\n",
    "# criteria (arbitrari): below 1000 pixel are removed\n",
    "\n",
    "connec_clean = np.zeros_like(connec)\n",
    "for idx, elm in enumerate(l_connec):\n",
    "    if elm > 1000:\n",
    "        connec_clean += (connec==(idx+1)).astype(int)*(idx+1)\n",
    "\n",
    "# l_connec_clean = connec_volume_all(connec_clean)\n",
    "# print(l_connec_clean)"
   ]
  },
  {
   "cell_type": "code",
   "execution_count": 10,
   "id": "downtown-boring",
   "metadata": {},
   "outputs": [
    {
     "data": {
      "text/plain": [
       "<matplotlib.image.AxesImage at 0x7f907f26c0a0>"
      ]
     },
     "execution_count": 10,
     "metadata": {},
     "output_type": "execute_result"
    },
    {
     "data": {
      "image/png": "[encoded data removed]",
      "text/plain": [
       "<Figure size 432x288 with 1 Axes>"
      ]
     },
     "metadata": {
      "needs_background": "light"
     },
     "output_type": "display_data"
    }
   ],
   "source": [
    "plt.imshow(connec_clean[half])"
   ]
  },
  {
   "cell_type": "code",
   "execution_count": 11,
   "id": "1ddf8532",
   "metadata": {},
   "outputs": [],
   "source": [
    "# crop each connected components by a frame of 20 pixel and save them as tif files\n",
    "props = regionprops(connec_clean) \n",
    "\n",
    "def crop_bbox(img, bbox, margin=20):\n",
    "    \"\"\"\n",
    "    bbox: (ax,ay,az,bx,by,bz)\n",
    "    \"\"\"\n",
    "    # adds margin and assert it is in the right range\n",
    "    bbox_a = np.array(bbox)[:3]-margin\n",
    "    bbox_b = np.array(bbox)[3:]+margin\n",
    "    bbox_ = np.append(bbox_a, bbox_b)\n",
    "    im_shape = img.shape\n",
    "\n",
    "    for i in range(2):\n",
    "        for j in range(3):\n",
    "            if bbox_[i*3+j] >= img.shape[j]:\n",
    "                bbox_[i*3+j] = img.shape[j] - 1\n",
    "            elif bbox_[i*3+j] < 0:\n",
    "                bbox_[i*3+j] = 0\n",
    "    ax,ay,az,bx,by,bz = np.array(bbox_)\n",
    "    return img[ax:bx,ay:by,az:bz], np.array(bbox_)"
   ]
  },
  {
   "cell_type": "code",
   "execution_count": 17,
   "id": "negative-issue",
   "metadata": {},
   "outputs": [],
   "source": [
    "img_bits = int(2**(2**np.ceil(np.log2(np.ceil(np.log2(np.max(img))))))) # log2 of the max pixel\n",
    "\n",
    "\n",
    "for i in range(len(props)):\n",
    "    connec_crop, bbox = crop_bbox(connec_clean, props[i].bbox)\n",
    "    connec_crop = ((connec_crop / np.max(connec_crop)) * (img_bits-1)).astype(np.uint16)\n",
    "\n",
    "    fname = out_path + str(i) + '.tif'\n",
    "\n",
    "    io.imsave(fname, connec_crop)\n",
    "    # TODO: add the metadata"
   ]
  },
  {
   "cell_type": "code",
   "execution_count": 18,
   "id": "5b5f513f",
   "metadata": {},
   "outputs": [],
   "source": [
    "# group bounding boxes if they have a IoU > 0.5"
   ]
  },
  {
   "cell_type": "code",
   "execution_count": null,
   "id": "202fae8f",
   "metadata": {},
   "outputs": [],
   "source": [
    "# z projection"
   ]
  }
 ],
 "metadata": {
  "kernelspec": {
   "display_name": "Python 3 (ipykernel)",
   "language": "python",
   "name": "python3"
  },
  "language_info": {
   "codemirror_mode": {
    "name": "ipython",
    "version": 3
   },
   "file_extension": ".py",
   "mimetype": "text/x-python",
   "name": "python",
   "nbconvert_exporter": "python",
   "pygments_lexer": "ipython3",
   "version": "3.8.12"
  }
 },
 "nbformat": 4,
 "nbformat_minor": 5
}
